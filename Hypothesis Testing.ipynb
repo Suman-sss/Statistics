{
 "cells": [
  {
   "cell_type": "markdown",
   "metadata": {},
   "source": [
    "# Hypothesis testing"
   ]
  },
  {
   "cell_type": "markdown",
   "metadata": {},
   "source": [
    "continuous distribution derived from normal distribution"
   ]
  },
  {
   "cell_type": "markdown",
   "metadata": {},
   "source": [
    "# t-distribution"
   ]
  },
  {
   "cell_type": "code",
   "execution_count": 5,
   "metadata": {},
   "outputs": [
    {
     "name": "stdout",
     "output_type": "stream",
     "text": [
      "2.0930240544082634\n",
      "1.9599639845400545\n"
     ]
    }
   ],
   "source": [
    "import numpy as np\n",
    "from scipy import stats\n",
    "\n",
    "n=20\n",
    "df = n-1\n",
    "alpha = 0.05\n",
    "\n",
    "print(stats.t(df).isf(alpha/2)) # inverse survival function\n",
    "print(stats.norm.isf(alpha/2))\n"
   ]
  },
  {
   "cell_type": "code",
   "execution_count": 6,
   "metadata": {},
   "outputs": [
    {
     "data": {
      "text/plain": [
       "(-0.8604867463054338, 7.203343889162577)"
      ]
     },
     "execution_count": 6,
     "metadata": {},
     "output_type": "execute_result"
    }
   ],
   "source": [
    "data = [1.2,5,8,9,0,-3,2]\n",
    "alpha = 0.95\n",
    "df = len(data)-1\n",
    "ci = stats.t.interval(alpha,df, loc=np.mean(data), scale=stats.sem(data))\n",
    "ci"
   ]
  },
  {
   "cell_type": "markdown",
   "metadata": {},
   "source": [
    "# Chi-square Distribution"
   ]
  },
  {
   "cell_type": "code",
   "execution_count": 8,
   "metadata": {},
   "outputs": [
    {
     "data": {
      "text/plain": [
       "0.19293306654285156"
      ]
     },
     "execution_count": 8,
     "metadata": {},
     "output_type": "execute_result"
    }
   ],
   "source": [
    "import numpy as np\n",
    "from scipy import stats\n",
    "data = np.r_[3.04, 2.94, 3.01, 3.00, 2.94, 2.91, 3.02,\n",
    "3.04, 3.09, 2.95, 2.99, 3.10, 3.02]\n",
    "sigma = 0.05\n",
    "Dist = stats.chi2(len(data)-1)\n",
    "stati = sum( ((data-np.mean(data))/sigma)**2 )\n",
    "Dist.sf(stati)"
   ]
  },
  {
   "cell_type": "markdown",
   "metadata": {},
   "source": [
    "# F variance"
   ]
  },
  {
   "cell_type": "code",
   "execution_count": 9,
   "metadata": {},
   "outputs": [],
   "source": [
    "import numpy as np\n",
    "from scipy import stats\n",
    "m1 = np.array([20.7, 20.3, 20.3, 20.3, 20.7, 19.9,\n",
    "19.9, 19.9, 20.3, 20.3, 19.7, 20.3])\n",
    "m2 = np.array([ 19.7, 19.4, 20.1, 18.6, 18.8, 20.2,\n",
    "18.7, 19. ])\n",
    "fval = np.var(m1, ddof=1)/np.var(m2, ddof=1)\n",
    "fd = stats.f(len(m1)-1,len(m2)-1)\n",
    "p_oneTail = fd.cdf(fval)"
   ]
  },
  {
   "cell_type": "code",
   "execution_count": 10,
   "metadata": {},
   "outputs": [
    {
     "data": {
      "text/plain": [
       "0.018665169931411433"
      ]
     },
     "execution_count": 10,
     "metadata": {},
     "output_type": "execute_result"
    }
   ],
   "source": [
    "# if (p_oneTail<0.025) or (p_oneTail>0.975):\n",
    "#print('There is a significant difference'\n",
    "#' between the two distributions.')\n",
    "#else:\n",
    "#print('No significant difference.')\n",
    "\n",
    "p_oneTail"
   ]
  },
  {
   "cell_type": "code",
   "execution_count": 16,
   "metadata": {},
   "outputs": [
    {
     "data": {
      "text/plain": [
       "((array([-1.31487275, -0.74397649, -0.3471943 ,  0.        ,  0.3471943 ,\n",
       "          0.74397649,  1.31487275]),\n",
       "  array([-1.2,  2. ,  3. ,  4. ,  6. ,  7. ,  9. ])),\n",
       " (3.7814517449704774, 4.257142857142857, 0.9938281637381808))"
      ]
     },
     "execution_count": 16,
     "metadata": {},
     "output_type": "execute_result"
    },
    {
     "data": {
      "image/png": "[encoded data removed]",
      "text/plain": [
       "<Figure size 432x288 with 1 Axes>"
      ]
     },
     "metadata": {
      "needs_background": "light"
     },
     "output_type": "display_data"
    }
   ],
   "source": [
    "import matplotlib.pyplot as plt\n",
    "data = [-1.2,2,3,4,6,7,9]\n",
    "\n",
    "stats.probplot(data, plot=plt)\n"
   ]
  },
  {
   "cell_type": "code",
   "execution_count": 17,
   "metadata": {},
   "outputs": [
    {
     "data": {
      "text/plain": [
       "-2.053748910631823"
      ]
     },
     "execution_count": 17,
     "metadata": {},
     "output_type": "execute_result"
    }
   ],
   "source": [
    "stats.norm().ppf(0.02)"
   ]
  },
  {
   "cell_type": "code",
   "execution_count": 19,
   "metadata": {},
   "outputs": [],
   "source": [
    "# one sample t test for mean value\n",
    "\n",
    "# t, pVal = stats.ttest_1samp(data, checkValue)\n",
    "\n",
    "# wilcoxon signed rank sum test\n",
    "\n",
    "# (rank, pVal) = stats.wilcoxon(data-checkValue)"
   ]
  },
  {
   "cell_type": "markdown",
   "metadata": {},
   "source": [
    "# One - way anova"
   ]
  },
  {
   "cell_type": "code",
   "execution_count": null,
   "metadata": {},
   "outputs": [],
   "source": [
    "from scipy import stats\n",
    "F_statistic, pVal = stats.f_oneway(group_1, group_2, group_3)\n",
    "# data from dataset\n",
    "import pandas as pd\n",
    "from statsmodels.formula.api import ols\n",
    "from statsmodels.stats.anova import anova_lm\n",
    "df = pd.DataFrame(data, columns=['value', 'treatment'])\n",
    "model = ols('value ~ C(treatment)', df).fit()\n",
    "anovaResults = anova_lm(model)\n",
    "print(anovaResults)"
   ]
  }
 ],
 "metadata": {
  "kernelspec": {
   "display_name": "Python 3",
   "language": "python",
   "name": "python3"
  },
  "language_info": {
   "codemirror_mode": {
    "name": "ipython",
    "version": 3
   },
   "file_extension": ".py",
   "mimetype": "text/x-python",
   "name": "python",
   "nbconvert_exporter": "python",
   "pygments_lexer": "ipython3",
   "version": "3.8.3"
  }
 },
 "nbformat": 4,
 "nbformat_minor": 4
}
